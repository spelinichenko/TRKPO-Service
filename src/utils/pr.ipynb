{
 "cells": [
  {
   "cell_type": "code",
   "execution_count": 1,
   "metadata": {},
   "outputs": [],
   "source": [
    "from src.utils.osm_extractor import get_preprocessed_data_by_district\n",
    "from src.utils.utils import get_dataframe_by_district\n",
    "from src.models.models import MainRequest, MainResponse, District, Cuisine, CafeType\n",
    "from geopy.geocoders import Photon\n",
    "import geopandas as gpd\n",
    "from shapely.geometry import Point\n",
    "\n",
    "request = MainRequest(district=District.primorsky, cuisine=Cuisine.china, budget=300000, cafe_type=CafeType.cafe, visitor_capacity=10)"
   ]
  },
  {
   "cell_type": "code",
   "execution_count": 2,
   "metadata": {},
   "outputs": [],
   "source": [
    "def get_places(request: MainRequest):\n",
    "    osm_data = get_preprocessed_data_by_district(request.district)\n",
    "    cian_data = get_dataframe_by_district(request.district)\n",
    "    cian_data['Цена'] = cian_data['Цена'].str.extract(r'(\\d+)', expand=False).astype(int)\n",
    "    cian_data['Площадь'] = cian_data['Площадь'].str.extract(r'(\\d+)', expand=False).astype(float)\n",
    "    #filter cian_objects by cost\n",
    "    cian_data = cian_data[cian_data['Цена'] <= request.budget]\n",
    "    map_cafe_type_to_kitchen_area = {\n",
    "        CafeType.cafe: 10,\n",
    "        CafeType.restaurant: 15,\n",
    "        CafeType.canteen: 5\n",
    "    }\n",
    "    cian_data = cian_data[cian_data['Площадь'] >= request.visitor_capacity * 2 + map_cafe_type_to_kitchen_area[request.cafe_type]]\n",
    "    geolocator = Photon()\n",
    "    cian_data['geometry'] = cian_data.apply(lambda x: geolocator.geocode(x['Адрес']), axis=1)\n",
    "    cian_data['geometry'] = cian_data.apply(lambda x: Point(x.geometry.longitude, x.geometry.latitude), axis=1)\n",
    "    cian_data_gdf = gpd.GeoDataFrame(cian_data, geometry=cian_data['geometry'], crs=\"EPSG:4326\")\n",
    "    cian_data_gdf = cian_data_gdf.to_crs(cian_data_gdf.estimate_utm_crs())\n",
    "    cian_data_gdf['buffer'] = cian_data_gdf['geometry'].buffer(1000).to_crs(\"EPSG:4326\")\n",
    "    cian_data_gdf['geometry'] = cian_data_gdf['geometry'].to_crs(\"EPSG:4326\")\n",
    "    cian_data_gdf = cian_data_gdf.set_geometry(cian_data_gdf['buffer'])\n",
    "    cian_osm_data_gdf = gpd.sjoin(osm_data, cian_data_gdf, lsuffix='cian', rsuffix='osm')\n",
    "    osm_food_places_amount = cian_osm_data_gdf.groupby('ID  объявления')['ID  объявления'].count().reset_index(name='places_count')\n",
    "    cian_osm_data_gdf = cian_osm_data_gdf.merge(osm_food_places_amount, on='ID  объявления')\n",
    "\n",
    "    delivery_percent = cian_osm_data_gdf.groupby('ID  объявления')['delivery'].value_counts(normalize=True).reset_index(name='delivery_percent')\n",
    "    delivery_percent['suggest_delivery'] = delivery_percent.apply(lambda x: x['delivery'] == True and x['delivery_percent'] < 0.5, axis=1)\n",
    "    delivery_suggestion = delivery_percent.groupby('ID  объявления')['suggest_delivery'].sum().astype(bool).reset_index(name=\"suggest_delivery\")\n",
    "    \n",
    "    best_place = cian_osm_data_gdf.merge(delivery_suggestion, on='ID  объявления')\n",
    "    suggest_open_time = best_place.groupby('ID  объявления')['open_time'].min().reset_index(name=\"suggest_open_time\")\n",
    "    suggest_close_time = best_place.groupby('ID  объявления')['close_time'].max().reset_index(name=\"suggest_close_time\")\n",
    "    best_place = best_place.merge(suggest_open_time, on='ID  объявления')\n",
    "    best_place = best_place.merge(suggest_close_time, on='ID  объявления')\n",
    "    best_place['Улица'] = best_place['Адрес'].str.split(pat=\",\").str[1].str.strip()\n",
    "    short_best_place = best_place[['Улица', 'Адрес', 'Площадь', 'Цена', 'suggest_open_time', 'suggest_close_time', 'suggest_delivery', 'ID  объявления', 'places_count', 'Ссылка на объявление']].drop_duplicates().sort_values('places_count').head(5).to_dict('records')\n",
    "    list_of_responces = [\n",
    "        MainResponse(\n",
    "            street=x['Улица'],\n",
    "            accuracy_address=x['Адрес'],\n",
    "            room_area=x['Площадь'],\n",
    "            room_price=x['Цена'],\n",
    "            working_hours=f'{x[\"suggest_open_time\"]}:00-{x[\"suggest_close_time\"]}:00',\n",
    "            delivery=x['suggest_delivery'],\n",
    "            link=x['Ссылка на объявление']\n",
    "        ) for x in short_best_place\n",
    "    ]\n",
    "    return list_of_responces"
   ]
  },
  {
   "cell_type": "code",
   "execution_count": 3,
   "metadata": {},
   "outputs": [],
   "source": [
    "list_of_responces = get_places(request)"
   ]
  },
  {
   "cell_type": "code",
   "execution_count": 6,
   "metadata": {},
   "outputs": [
    {
     "data": {
      "text/plain": [
       "[MainResponse(street='Шуваловский проспект', accuracy_address='Санкт-Петербург, Шуваловский проспект, 41к1', room_area=148, room_price=135000, working_hours='10:00-24:00', delivery=False, link='https://www.cian.ru/rent/commercial/292475596'),\n",
       " MainResponse(street='проспект Авиаконструкторов', accuracy_address='Санкт-Петербург, проспект Авиаконструкторов, 54', room_area=77, room_price=155000, working_hours='5:00-23:00', delivery=False, link='https://www.cian.ru/rent/commercial/294870320'),\n",
       " MainResponse(street='проспект Авиаконструкторов', accuracy_address='Санкт-Петербург, проспект Авиаконструкторов, 54', room_area=60, room_price=150750, working_hours='5:00-23:00', delivery=False, link='https://www.cian.ru/rent/commercial/287553516'),\n",
       " MainResponse(street='проспект Авиаконструкторов', accuracy_address='Санкт-Петербург, проспект Авиаконструкторов, 54', room_area=66, room_price=165500, working_hours='5:00-23:00', delivery=False, link='https://www.cian.ru/rent/commercial/290150774'),\n",
       " MainResponse(street='проспект Авиаконструкторов', accuracy_address='Санкт-Петербург, проспект Авиаконструкторов, 54', room_area=75, room_price=166760, working_hours='5:00-23:00', delivery=False, link='https://www.cian.ru/rent/commercial/290611311')]"
      ]
     },
     "execution_count": 6,
     "metadata": {},
     "output_type": "execute_result"
    }
   ],
   "source": [
    "list_of_responces"
   ]
  },
  {
   "cell_type": "code",
   "execution_count": null,
   "metadata": {},
   "outputs": [],
   "source": []
  }
 ],
 "metadata": {
  "kernelspec": {
   "display_name": "trkpo_venv",
   "language": "python",
   "name": "python3"
  },
  "language_info": {
   "codemirror_mode": {
    "name": "ipython",
    "version": 3
   },
   "file_extension": ".py",
   "mimetype": "text/x-python",
   "name": "python",
   "nbconvert_exporter": "python",
   "pygments_lexer": "ipython3",
   "version": "3.10.7"
  }
 },
 "nbformat": 4,
 "nbformat_minor": 2
}
